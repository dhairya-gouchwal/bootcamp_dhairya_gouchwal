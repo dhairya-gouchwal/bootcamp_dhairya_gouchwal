{
 "cells": [
  {
   "cell_type": "markdown",
   "id": "8ce0cf68-26be-4e5b-ba87-48af2e43e567",
   "metadata": {},
   "source": [
    "**HW 6 Data Preprocessing**"
   ]
  },
  {
   "cell_type": "code",
   "execution_count": 48,
   "id": "d7cb00b7-ba8b-4a7f-bed2-0502eda739cb",
   "metadata": {},
   "outputs": [],
   "source": [
    "import os\n",
    "import pandas as pd\n",
    "import numpy as np\n",
    "\n",
    "raw_dir =  r\"C:\\Users\\dhair\\bootcamp_dhairya_gouchwal\\homework\\homework6\\data\\raw\"\n",
    "processed_dir = r\"C:\\Users\\dhair\\bootcamp_dhairya_gouchwal\\homework\\homework6\\data\\processed\"\n",
    "\n",
    "#sample data from HW starter\n",
    "data = {\n",
    "    'age': [34, 45, 29, 50, 38, np.nan, 41],\n",
    "    'income': [55000, np.nan, 42000, 58000, np.nan, np.nan, 49000],\n",
    "    'score': [0.82, 0.91, np.nan, 0.76, 0.88, 0.65, 0.79],\n",
    "    'zipcode': ['90210', '10001', '60614', '94103', '73301', '12345', '94105'],\n",
    "    'city': ['Beverly', 'New York', 'Chicago', 'SF', 'Austin', 'Unknown', 'San Francisco'],\n",
    "    'extra_data': [np.nan, 42, np.nan, np.nan, np.nan, 5, np.nan]\n",
    "}\n",
    "\n",
    "df = pd.DataFrame(data)\n",
    "\n",
    "data_csv= os.path.join(raw_dir, 'sample_data.csv')\n",
    "df.to_csv(data_csv, index= False)\n",
    "\n"
   ]
  },
  {
   "cell_type": "code",
   "execution_count": 49,
   "id": "cc629434-aa3c-43c6-bfdf-9280ae0fb952",
   "metadata": {},
   "outputs": [
    {
     "data": {
      "text/html": [
       "<div>\n",
       "<style scoped>\n",
       "    .dataframe tbody tr th:only-of-type {\n",
       "        vertical-align: middle;\n",
       "    }\n",
       "\n",
       "    .dataframe tbody tr th {\n",
       "        vertical-align: top;\n",
       "    }\n",
       "\n",
       "    .dataframe thead th {\n",
       "        text-align: right;\n",
       "    }\n",
       "</style>\n",
       "<table border=\"1\" class=\"dataframe\">\n",
       "  <thead>\n",
       "    <tr style=\"text-align: right;\">\n",
       "      <th></th>\n",
       "      <th>age</th>\n",
       "      <th>income</th>\n",
       "      <th>score</th>\n",
       "      <th>zipcode</th>\n",
       "      <th>city</th>\n",
       "      <th>extra_data</th>\n",
       "    </tr>\n",
       "  </thead>\n",
       "  <tbody>\n",
       "    <tr>\n",
       "      <th>0</th>\n",
       "      <td>34.0</td>\n",
       "      <td>55000.0</td>\n",
       "      <td>0.82</td>\n",
       "      <td>90210</td>\n",
       "      <td>Beverly</td>\n",
       "      <td>NaN</td>\n",
       "    </tr>\n",
       "    <tr>\n",
       "      <th>1</th>\n",
       "      <td>45.0</td>\n",
       "      <td>NaN</td>\n",
       "      <td>0.91</td>\n",
       "      <td>10001</td>\n",
       "      <td>New York</td>\n",
       "      <td>42.0</td>\n",
       "    </tr>\n",
       "    <tr>\n",
       "      <th>2</th>\n",
       "      <td>29.0</td>\n",
       "      <td>42000.0</td>\n",
       "      <td>NaN</td>\n",
       "      <td>60614</td>\n",
       "      <td>Chicago</td>\n",
       "      <td>NaN</td>\n",
       "    </tr>\n",
       "    <tr>\n",
       "      <th>3</th>\n",
       "      <td>50.0</td>\n",
       "      <td>58000.0</td>\n",
       "      <td>0.76</td>\n",
       "      <td>94103</td>\n",
       "      <td>SF</td>\n",
       "      <td>NaN</td>\n",
       "    </tr>\n",
       "    <tr>\n",
       "      <th>4</th>\n",
       "      <td>38.0</td>\n",
       "      <td>NaN</td>\n",
       "      <td>0.88</td>\n",
       "      <td>73301</td>\n",
       "      <td>Austin</td>\n",
       "      <td>NaN</td>\n",
       "    </tr>\n",
       "  </tbody>\n",
       "</table>\n",
       "</div>"
      ],
      "text/plain": [
       "    age   income  score zipcode      city  extra_data\n",
       "0  34.0  55000.0   0.82   90210   Beverly         NaN\n",
       "1  45.0      NaN   0.91   10001  New York        42.0\n",
       "2  29.0  42000.0    NaN   60614   Chicago         NaN\n",
       "3  50.0  58000.0   0.76   94103        SF         NaN\n",
       "4  38.0      NaN   0.88   73301    Austin         NaN"
      ]
     },
     "execution_count": 49,
     "metadata": {},
     "output_type": "execute_result"
    }
   ],
   "source": [
    "#Validate Raw data\n",
    "df.head()"
   ]
  },
  {
   "cell_type": "code",
   "execution_count": 50,
   "id": "6ef03325-b516-46c4-84f6-1907e0d37bc9",
   "metadata": {},
   "outputs": [
    {
     "name": "stdout",
     "output_type": "stream",
     "text": [
      "<class 'pandas.core.frame.DataFrame'>\n",
      "RangeIndex: 7 entries, 0 to 6\n",
      "Data columns (total 6 columns):\n",
      " #   Column      Non-Null Count  Dtype  \n",
      "---  ------      --------------  -----  \n",
      " 0   age         6 non-null      float64\n",
      " 1   income      4 non-null      float64\n",
      " 2   score       6 non-null      float64\n",
      " 3   zipcode     7 non-null      object \n",
      " 4   city        7 non-null      object \n",
      " 5   extra_data  2 non-null      float64\n",
      "dtypes: float64(4), object(2)\n",
      "memory usage: 468.0+ bytes\n"
     ]
    }
   ],
   "source": [
    "df.info()"
   ]
  },
  {
   "cell_type": "markdown",
   "id": "1d411415-823c-4100-a6d0-c00fa0addd58",
   "metadata": {},
   "source": [
    "#TODOs from HW Sheet:\n",
    "1. Create functions in src/cleaning.py:\n",
    "fill_missing_median()\n",
    "drop_missing()\n",
    "normalize_data()\n",
    "2. Use the provided raw dataset in /data/raw/.\n",
    "3. In a Jupyter notebook:\n",
    "Load dataset\n",
    "Apply cleaning functions\n",
    "Save cleaned dataset to /data/processed/\n",
    "Compare original vs cleaned data\n",
    "Document all assumptions clearly\n",
    "4. Update README with a section on cleaning strategy.\n"
   ]
  },
  {
   "cell_type": "code",
   "execution_count": 63,
   "id": "8e3ede19-f82b-49af-b9a1-8f1b66112ecc",
   "metadata": {},
   "outputs": [],
   "source": [
    "#Cleaning process below:\n",
    "import seaborn as sns\n",
    "import matplotlib.pyplot as plt\n",
    "from sklearn.preprocessing import MinMaxScaler, StandardScaler\n",
    "import missingno as msno\n"
   ]
  },
  {
   "cell_type": "code",
   "execution_count": 64,
   "id": "ce2acc6a-34f7-42bd-80b9-0ba27666e42c",
   "metadata": {},
   "outputs": [
    {
     "name": "stdout",
     "output_type": "stream",
     "text": [
      "Requirement already satisfied: sklearn.preprocessing in c:\\users\\dhair\\anaconda3\\envs\\fe-course\\lib\\site-packages (0.1.0)\n",
      "Note: you may need to restart the kernel to use updated packages.\n"
     ]
    }
   ],
   "source": [
    "pip install sklearn.preprocessing\n"
   ]
  },
  {
   "cell_type": "code",
   "execution_count": 65,
   "id": "7d968494-f882-4b0a-b671-aad6c6a23e89",
   "metadata": {},
   "outputs": [],
   "source": [
    "import sys, os\n",
    "import pandas as pd\n",
    "sys.path.append(r\"C:\\Users\\dhair\\bootcamp_dhairya_gouchwal\\homework\\homework6\\src\")\n",
    "import cleaning\n"
   ]
  },
  {
   "cell_type": "code",
   "execution_count": 66,
   "id": "e4883c35-9614-4aa4-a7b5-eb37e3bc9e6d",
   "metadata": {},
   "outputs": [],
   "source": [
    "#cleaning functions\n",
    "df_cleaned = df.copy()\n",
    "df_cleaned = cleaning.fill_missing_median(df_cleaned)\n",
    "df_cleaned = cleaning.drop_missing(df_cleaned, threshold = 0.5)\n",
    "df_cleaned = cleaning.normalize_data(df_cleaned)\n",
    "\n",
    "\n",
    "processed_csv = os.path.join(processed_dir, 'clean_sample.csv')\n",
    "df_cleaned.to_csv(processed_csv, index=False)\n"
   ]
  },
  {
   "cell_type": "code",
   "execution_count": 67,
   "id": "d70e8170-1bb5-4bea-9fbe-aeb7697def36",
   "metadata": {},
   "outputs": [
    {
     "data": {
      "text/html": [
       "<div>\n",
       "<style scoped>\n",
       "    .dataframe tbody tr th:only-of-type {\n",
       "        vertical-align: middle;\n",
       "    }\n",
       "\n",
       "    .dataframe tbody tr th {\n",
       "        vertical-align: top;\n",
       "    }\n",
       "\n",
       "    .dataframe thead th {\n",
       "        text-align: right;\n",
       "    }\n",
       "</style>\n",
       "<table border=\"1\" class=\"dataframe\">\n",
       "  <thead>\n",
       "    <tr style=\"text-align: right;\">\n",
       "      <th></th>\n",
       "      <th>age</th>\n",
       "      <th>income</th>\n",
       "      <th>score</th>\n",
       "      <th>zipcode</th>\n",
       "      <th>city</th>\n",
       "      <th>extra_data</th>\n",
       "    </tr>\n",
       "  </thead>\n",
       "  <tbody>\n",
       "    <tr>\n",
       "      <th>0</th>\n",
       "      <td>0.238095</td>\n",
       "      <td>0.8125</td>\n",
       "      <td>0.653846</td>\n",
       "      <td>90210</td>\n",
       "      <td>Beverly</td>\n",
       "      <td>0.5</td>\n",
       "    </tr>\n",
       "    <tr>\n",
       "      <th>1</th>\n",
       "      <td>0.761905</td>\n",
       "      <td>0.6250</td>\n",
       "      <td>1.000000</td>\n",
       "      <td>10001</td>\n",
       "      <td>New York</td>\n",
       "      <td>1.0</td>\n",
       "    </tr>\n",
       "    <tr>\n",
       "      <th>2</th>\n",
       "      <td>0.000000</td>\n",
       "      <td>0.0000</td>\n",
       "      <td>0.596154</td>\n",
       "      <td>60614</td>\n",
       "      <td>Chicago</td>\n",
       "      <td>0.5</td>\n",
       "    </tr>\n",
       "    <tr>\n",
       "      <th>3</th>\n",
       "      <td>1.000000</td>\n",
       "      <td>1.0000</td>\n",
       "      <td>0.423077</td>\n",
       "      <td>94103</td>\n",
       "      <td>SF</td>\n",
       "      <td>0.5</td>\n",
       "    </tr>\n",
       "    <tr>\n",
       "      <th>4</th>\n",
       "      <td>0.428571</td>\n",
       "      <td>0.6250</td>\n",
       "      <td>0.884615</td>\n",
       "      <td>73301</td>\n",
       "      <td>Austin</td>\n",
       "      <td>0.5</td>\n",
       "    </tr>\n",
       "  </tbody>\n",
       "</table>\n",
       "</div>"
      ],
      "text/plain": [
       "        age  income     score zipcode      city  extra_data\n",
       "0  0.238095  0.8125  0.653846   90210   Beverly         0.5\n",
       "1  0.761905  0.6250  1.000000   10001  New York         1.0\n",
       "2  0.000000  0.0000  0.596154   60614   Chicago         0.5\n",
       "3  1.000000  1.0000  0.423077   94103        SF         0.5\n",
       "4  0.428571  0.6250  0.884615   73301    Austin         0.5"
      ]
     },
     "execution_count": 67,
     "metadata": {},
     "output_type": "execute_result"
    }
   ],
   "source": [
    "#Validate\n",
    "df_cleaned.head()"
   ]
  },
  {
   "cell_type": "code",
   "execution_count": 68,
   "id": "09a5e874-e12d-4b4f-a821-7caa0954480e",
   "metadata": {},
   "outputs": [
    {
     "name": "stdout",
     "output_type": "stream",
     "text": [
      "<class 'pandas.core.frame.DataFrame'>\n",
      "RangeIndex: 7 entries, 0 to 6\n",
      "Data columns (total 6 columns):\n",
      " #   Column      Non-Null Count  Dtype  \n",
      "---  ------      --------------  -----  \n",
      " 0   age         7 non-null      float64\n",
      " 1   income      7 non-null      float64\n",
      " 2   score       7 non-null      float64\n",
      " 3   zipcode     7 non-null      object \n",
      " 4   city        7 non-null      object \n",
      " 5   extra_data  7 non-null      float64\n",
      "dtypes: float64(4), object(2)\n",
      "memory usage: 468.0+ bytes\n"
     ]
    }
   ],
   "source": [
    "#Validate\n",
    "df_cleaned.info()"
   ]
  },
  {
   "cell_type": "code",
   "execution_count": 69,
   "id": "93db3224-9cec-4231-a36d-9abc509193c5",
   "metadata": {},
   "outputs": [
    {
     "name": "stdout",
     "output_type": "stream",
     "text": [
      "Raw shape: (7, 6)\n",
      "Cleaned shape: (7, 6)\n"
     ]
    }
   ],
   "source": [
    "#compare the old data with the new data \n",
    "#Process 1\n",
    "print(\"Raw shape:\", df.shape)\n",
    "print(\"Cleaned shape:\", df_cleaned.shape)"
   ]
  },
  {
   "cell_type": "code",
   "execution_count": 70,
   "id": "8083b03f-e006-4964-8a27-cd64cc7e7e43",
   "metadata": {},
   "outputs": [
    {
     "name": "stdout",
     "output_type": "stream",
     "text": [
      "Missing values before:\n",
      " age           1\n",
      "income        3\n",
      "score         1\n",
      "zipcode       0\n",
      "city          0\n",
      "extra_data    5\n",
      "dtype: int64\n",
      "\n",
      "Missing values after:\n",
      " age           0\n",
      "income        0\n",
      "score         0\n",
      "zipcode       0\n",
      "city          0\n",
      "extra_data    0\n",
      "dtype: int64\n"
     ]
    }
   ],
   "source": [
    "# Cleaning process 2\n",
    "print(\"Missing values before:\\n\", df.isnull().sum())\n",
    "print(\"\\nMissing values after:\\n\", df_cleaned.isnull().sum())"
   ]
  },
  {
   "cell_type": "code",
   "execution_count": 71,
   "id": "5a6cac8a-dcb3-401b-bd2b-7ec42f6816e8",
   "metadata": {},
   "outputs": [
    {
     "name": "stdout",
     "output_type": "stream",
     "text": [
      "\n",
      "Before cleaning:\n",
      "              age        income     score  extra_data\n",
      "count   6.000000      4.000000  6.000000    2.000000\n",
      "mean   39.500000  51000.000000  0.801667   23.500000\n",
      "std     7.556454   7071.067812  0.092826   26.162951\n",
      "min    29.000000  42000.000000  0.650000    5.000000\n",
      "25%    35.000000  47250.000000  0.767500   14.250000\n",
      "50%    39.500000  52000.000000  0.805000   23.500000\n",
      "75%    44.000000  55750.000000  0.865000   32.750000\n",
      "max    50.000000  58000.000000  0.910000   42.000000\n",
      "\n",
      "After cleaning:\n",
      "             age    income     score  extra_data\n",
      "count  7.000000  7.000000  7.000000    7.000000\n",
      "mean   0.500000  0.589286  0.585165    0.500000\n",
      "std    0.328479  0.314281  0.325952    0.288675\n",
      "min    0.000000  0.000000  0.000000    0.000000\n",
      "25%    0.333333  0.531250  0.480769    0.500000\n",
      "50%    0.500000  0.625000  0.596154    0.500000\n",
      "75%    0.666667  0.718750  0.769231    0.500000\n",
      "max    1.000000  1.000000  1.000000    1.000000\n"
     ]
    }
   ],
   "source": [
    "#Cleaning process 3\n",
    "print(\"\\nBefore cleaning:\\n\", df.describe())\n",
    "print(\"\\nAfter cleaning:\\n\", df_cleaned.describe())"
   ]
  },
  {
   "cell_type": "code",
   "execution_count": 72,
   "id": "6813b332-38b7-4dce-8e2b-30603c4dee0f",
   "metadata": {},
   "outputs": [
    {
     "name": "stdout",
     "output_type": "stream",
     "text": [
      "\n",
      "Differences:\n",
      "          age      income     score  extra_data\n",
      "0 -33.761905 -54999.1875 -0.166154         NaN\n",
      "1 -44.238095         NaN  0.090000       -41.0\n",
      "2 -29.000000 -42000.0000       NaN         NaN\n",
      "3 -49.000000 -57999.0000 -0.336923         NaN\n",
      "4 -37.571429         NaN  0.004615         NaN\n"
     ]
    }
   ],
   "source": [
    "#Cleaning process 4\n",
    "diff = df_cleaned.select_dtypes(include=[float, int]) - df.select_dtypes(include=[float, int])\n",
    "print(\"\\nDifferences:\\n\", diff.head())"
   ]
  },
  {
   "cell_type": "code",
   "execution_count": 74,
   "id": "9563e16c-e1a6-4dde-93d6-dd17d7e874a1",
   "metadata": {},
   "outputs": [
    {
     "name": "stdout",
     "output_type": "stream",
     "text": [
      "    age             income         score           zipcode       city        \\\n",
      "   self     other     self   other  self     other    self other self other   \n",
      "0  34.0  0.238095  55000.0  0.8125  0.82  0.653846     NaN   NaN  NaN   NaN   \n",
      "1  45.0  0.761905      NaN  0.6250  0.91  1.000000     NaN   NaN  NaN   NaN   \n",
      "2  29.0  0.000000  42000.0  0.0000   NaN  0.596154     NaN   NaN  NaN   NaN   \n",
      "3  50.0  1.000000  58000.0  1.0000  0.76  0.423077     NaN   NaN  NaN   NaN   \n",
      "4  38.0  0.428571      NaN  0.6250  0.88  0.884615     NaN   NaN  NaN   NaN   \n",
      "\n",
      "  extra_data        \n",
      "        self other  \n",
      "0        NaN   0.5  \n",
      "1       42.0   1.0  \n",
      "2        NaN   0.5  \n",
      "3        NaN   0.5  \n",
      "4        NaN   0.5  \n"
     ]
    }
   ],
   "source": [
    "#Comparing 2 tables side by side\n",
    "df_diff = df.compare(df_cleaned, keep_shape=True, keep_equal=False)\n",
    "print(df_diff.head())"
   ]
  },
  {
   "cell_type": "markdown",
   "id": "39e8385e-9e04-4edd-8740-d033126b1e0e",
   "metadata": {},
   "source": [
    "**Conclusion**\n",
    "\n",
    "After cleaning, missing numeric values (NaN) were successfully filled using median imputation. All numeric columns (age, income, score, extra_data) were normalized to a 0–1 range. Categorical columns (zipcode, city) remained unchanged. This ensures the dataset is free of missing values and standardized for modeling."
   ]
  }
 ],
 "metadata": {
  "kernelspec": {
   "display_name": "Python 3 (ipykernel)",
   "language": "python",
   "name": "python3"
  },
  "language_info": {
   "codemirror_mode": {
    "name": "ipython",
    "version": 3
   },
   "file_extension": ".py",
   "mimetype": "text/x-python",
   "name": "python",
   "nbconvert_exporter": "python",
   "pygments_lexer": "ipython3",
   "version": "3.11.13"
  }
 },
 "nbformat": 4,
 "nbformat_minor": 5
}
