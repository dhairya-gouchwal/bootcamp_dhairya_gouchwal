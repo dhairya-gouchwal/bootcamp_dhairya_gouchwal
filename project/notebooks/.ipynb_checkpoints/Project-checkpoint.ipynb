{
 "cells": [
  {
   "cell_type": "markdown",
   "id": "75c9c7b8-59a1-40a9-b4b8-70a25068d08b",
   "metadata": {},
   "source": [
    "**Project**\n",
    "**Portfolio Comparison and Optimization**"
   ]
  },
  {
   "cell_type": "code",
   "execution_count": null,
   "id": "d0be7e90-c62f-49ce-8015-81536e6af1bd",
   "metadata": {},
   "outputs": [],
   "source": []
  }
 ],
 "metadata": {
  "kernelspec": {
   "display_name": "Python 3 (ipykernel)",
   "language": "python",
   "name": "python3"
  },
  "language_info": {
   "codemirror_mode": {
    "name": "ipython",
    "version": 3
   },
   "file_extension": ".py",
   "mimetype": "text/x-python",
   "name": "python",
   "nbconvert_exporter": "python",
   "pygments_lexer": "ipython3",
   "version": "3.11.13"
  }
 },
 "nbformat": 4,
 "nbformat_minor": 5
}
