{
 "cells": [
  {
   "cell_type": "code",
   "execution_count": 5,
   "id": "14ff9c27-9698-46b2-ae95-4d7eeaf6d283",
   "metadata": {},
   "outputs": [
    {
     "name": "stdout",
     "output_type": "stream",
     "text": [
      "API key exists\n"
     ]
    }
   ],
   "source": [
    "# Environment & Config Check\n",
    "import os\n",
    "from dotenv import load_dotenv\n",
    "\n",
    "load_dotenv()\n",
    "api_key = os.getenv(\"API_KEY\")\n",
    "if api_key:\n",
    "    print (\"API key exists\")\n",
    "else: \n",
    "    print (\"API key does not exists\")\n",
    "\n"
   ]
  },
  {
   "cell_type": "code",
   "execution_count": 8,
   "id": "a5ecd20e-2fa2-4aa7-bb47-16d83b79224a",
   "metadata": {},
   "outputs": [
    {
     "name": "stdout",
     "output_type": "stream",
     "text": [
      "[ 1  2  3  4  5  6  7  8  9 10]\n",
      "5.5\n"
     ]
    }
   ],
   "source": [
    "import numpy as np\n",
    "arr = np.array ([1, 2, 3, 4, 5, 6, 7, 8, 9, 10])\n",
    "\n",
    "print (arr)\n",
    "print (arr.mean())"
   ]
  },
  {
   "cell_type": "code",
   "execution_count": null,
   "id": "21b7af17-46e7-4dad-ac36-b31fe734cfdc",
   "metadata": {},
   "outputs": [],
   "source": []
  }
 ],
 "metadata": {
  "kernelspec": {
   "display_name": "Python 3 (ipykernel)",
   "language": "python",
   "name": "python3"
  },
  "language_info": {
   "codemirror_mode": {
    "name": "ipython",
    "version": 3
   },
   "file_extension": ".py",
   "mimetype": "text/x-python",
   "name": "python",
   "nbconvert_exporter": "python",
   "pygments_lexer": "ipython3",
   "version": "3.11.13"
  }
 },
 "nbformat": 4,
 "nbformat_minor": 5
}
